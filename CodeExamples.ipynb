{
 "cells": [
  {
   "cell_type": "code",
   "execution_count": null,
   "metadata": {
    "collapsed": false
   },
   "outputs": [],
   "source": [
    "#################################\n",
    "# Run this cell at first\n",
    "#################################\n",
    "%matplotlib inline\n",
    "\n",
    "import AftFore as aft\n",
    "import pickle"
   ]
  },
  {
   "cell_type": "code",
   "execution_count": null,
   "metadata": {
    "collapsed": false
   },
   "outputs": [],
   "source": [
    "t_learn = [0.0, 1.0]            # The range of the learning period [day].\n",
    "t_test  = [1.0, 2.0]            # The range of the testing period [day].\n",
    "Data    = './AftFore/Kobe.txt'  # The path of the date file\n",
    "\n",
    "aft.EstFore(Data,t_learn,t_test)"
   ]
  },
  {
   "cell_type": "code",
   "execution_count": null,
   "metadata": {
    "collapsed": false
   },
   "outputs": [],
   "source": [
    "t_learn = [0.0, 1.0]            # The range of the learning period [day].\n",
    "Data    = './AftFore/Kobe.txt'  # The path of the date file\n",
    "\n",
    "param = aft.Est(Data,t_learn)"
   ]
  },
  {
   "cell_type": "code",
   "execution_count": null,
   "metadata": {
    "collapsed": true
   },
   "outputs": [],
   "source": [
    "param = pickle.load(open('param.pkl','rb'))"
   ]
  },
  {
   "cell_type": "code",
   "execution_count": null,
   "metadata": {
    "collapsed": false
   },
   "outputs": [],
   "source": [
    "t_test  = [1.0, 2.0]            # The range of the testing period [day].\n",
    "\n",
    "aft.Fore(param,t_test)"
   ]
  },
  {
   "cell_type": "code",
   "execution_count": null,
   "metadata": {
    "collapsed": false
   },
   "outputs": [],
   "source": [
    "t_test  = [1.0, 2.0]             # The range of the testing period [day].\n",
    "Data_test = './AftFore/Kobe.txt' # The path of the data file including the data in the testing period\n",
    "\n",
    "aft.Fore(param,t_test,Data_test=Data_test)"
   ]
  },
  {
   "cell_type": "code",
   "execution_count": null,
   "metadata": {
    "collapsed": true
   },
   "outputs": [],
   "source": []
  }
 ],
 "metadata": {
  "kernelspec": {
   "display_name": "Python 2",
   "language": "python",
   "name": "python2"
  },
  "language_info": {
   "codemirror_mode": {
    "name": "ipython",
    "version": 2
   },
   "file_extension": ".py",
   "mimetype": "text/x-python",
   "name": "python",
   "nbconvert_exporter": "python",
   "pygments_lexer": "ipython2",
   "version": "2.7.12"
  }
 },
 "nbformat": 4,
 "nbformat_minor": 0
}
